{
 "cells": [
  {
   "cell_type": "code",
   "execution_count": 57,
   "id": "876f08a9",
   "metadata": {},
   "outputs": [],
   "source": [
    "#import required packages\n",
    "import pandas as pd\n",
    "import numpy as np\n",
    "import matplotlib.pyplot as plt\n",
    "from sklearn.cluster import KMeans\n",
    "import warnings\n",
    "warnings.filterwarnings('ignore')\n",
    "%matplotlib inline"
   ]
  },
  {
   "cell_type": "code",
   "execution_count": 103,
   "id": "49e34b91",
   "metadata": {},
   "outputs": [],
   "source": [
    "df = pd.read_csv(r'Project 6-Segmenting customers into clusters-Dataset.csv',encoding= 'unicode_escape')\n",
    "#print (df)"
   ]
  },
  {
   "cell_type": "code",
   "execution_count": 104,
   "id": "3ece855f",
   "metadata": {},
   "outputs": [
    {
     "data": {
      "text/plain": [
       "(541909, 8)"
      ]
     },
     "execution_count": 104,
     "metadata": {},
     "output_type": "execute_result"
    }
   ],
   "source": [
    "df.shape"
   ]
  },
  {
   "cell_type": "code",
   "execution_count": 105,
   "id": "00203729",
   "metadata": {},
   "outputs": [
    {
     "data": {
      "text/html": [
       "<div>\n",
       "<style scoped>\n",
       "    .dataframe tbody tr th:only-of-type {\n",
       "        vertical-align: middle;\n",
       "    }\n",
       "\n",
       "    .dataframe tbody tr th {\n",
       "        vertical-align: top;\n",
       "    }\n",
       "\n",
       "    .dataframe thead th {\n",
       "        text-align: right;\n",
       "    }\n",
       "</style>\n",
       "<table border=\"1\" class=\"dataframe\">\n",
       "  <thead>\n",
       "    <tr style=\"text-align: right;\">\n",
       "      <th></th>\n",
       "      <th>InvoiceNo</th>\n",
       "      <th>StockCode</th>\n",
       "      <th>Description</th>\n",
       "      <th>Quantity</th>\n",
       "      <th>InvoiceDate</th>\n",
       "      <th>UnitPrice</th>\n",
       "      <th>CustomerID</th>\n",
       "      <th>Country</th>\n",
       "    </tr>\n",
       "  </thead>\n",
       "  <tbody>\n",
       "    <tr>\n",
       "      <th>0</th>\n",
       "      <td>536365</td>\n",
       "      <td>85123A</td>\n",
       "      <td>WHITE HANGING HEART T-LIGHT HOLDER</td>\n",
       "      <td>6</td>\n",
       "      <td>01/12/10 08:26</td>\n",
       "      <td>2.55</td>\n",
       "      <td>17850.0</td>\n",
       "      <td>United Kingdom</td>\n",
       "    </tr>\n",
       "    <tr>\n",
       "      <th>1</th>\n",
       "      <td>536365</td>\n",
       "      <td>71053</td>\n",
       "      <td>WHITE METAL LANTERN</td>\n",
       "      <td>6</td>\n",
       "      <td>01/12/10 08:26</td>\n",
       "      <td>3.39</td>\n",
       "      <td>17850.0</td>\n",
       "      <td>United Kingdom</td>\n",
       "    </tr>\n",
       "    <tr>\n",
       "      <th>2</th>\n",
       "      <td>536365</td>\n",
       "      <td>84406B</td>\n",
       "      <td>CREAM CUPID HEARTS COAT HANGER</td>\n",
       "      <td>8</td>\n",
       "      <td>01/12/10 08:26</td>\n",
       "      <td>2.75</td>\n",
       "      <td>17850.0</td>\n",
       "      <td>United Kingdom</td>\n",
       "    </tr>\n",
       "    <tr>\n",
       "      <th>3</th>\n",
       "      <td>536365</td>\n",
       "      <td>84029G</td>\n",
       "      <td>KNITTED UNION FLAG HOT WATER BOTTLE</td>\n",
       "      <td>6</td>\n",
       "      <td>01/12/10 08:26</td>\n",
       "      <td>3.39</td>\n",
       "      <td>17850.0</td>\n",
       "      <td>United Kingdom</td>\n",
       "    </tr>\n",
       "    <tr>\n",
       "      <th>4</th>\n",
       "      <td>536365</td>\n",
       "      <td>84029E</td>\n",
       "      <td>RED WOOLLY HOTTIE WHITE HEART.</td>\n",
       "      <td>6</td>\n",
       "      <td>01/12/10 08:26</td>\n",
       "      <td>3.39</td>\n",
       "      <td>17850.0</td>\n",
       "      <td>United Kingdom</td>\n",
       "    </tr>\n",
       "  </tbody>\n",
       "</table>\n",
       "</div>"
      ],
      "text/plain": [
       "  InvoiceNo StockCode                          Description  Quantity  \\\n",
       "0    536365    85123A   WHITE HANGING HEART T-LIGHT HOLDER         6   \n",
       "1    536365     71053                  WHITE METAL LANTERN         6   \n",
       "2    536365    84406B       CREAM CUPID HEARTS COAT HANGER         8   \n",
       "3    536365    84029G  KNITTED UNION FLAG HOT WATER BOTTLE         6   \n",
       "4    536365    84029E       RED WOOLLY HOTTIE WHITE HEART.         6   \n",
       "\n",
       "      InvoiceDate  UnitPrice  CustomerID         Country  \n",
       "0  01/12/10 08:26       2.55     17850.0  United Kingdom  \n",
       "1  01/12/10 08:26       3.39     17850.0  United Kingdom  \n",
       "2  01/12/10 08:26       2.75     17850.0  United Kingdom  \n",
       "3  01/12/10 08:26       3.39     17850.0  United Kingdom  \n",
       "4  01/12/10 08:26       3.39     17850.0  United Kingdom  "
      ]
     },
     "execution_count": 105,
     "metadata": {},
     "output_type": "execute_result"
    }
   ],
   "source": [
    "df.head()"
   ]
  },
  {
   "cell_type": "code",
   "execution_count": 106,
   "id": "da833a03",
   "metadata": {},
   "outputs": [
    {
     "data": {
      "text/plain": [
       "InvoiceNo           0\n",
       "StockCode           0\n",
       "Description      1454\n",
       "Quantity            0\n",
       "InvoiceDate         0\n",
       "UnitPrice           0\n",
       "CustomerID     135080\n",
       "Country             0\n",
       "dtype: int64"
      ]
     },
     "execution_count": 106,
     "metadata": {},
     "output_type": "execute_result"
    }
   ],
   "source": [
    "df.isnull().sum()"
   ]
  },
  {
   "cell_type": "code",
   "execution_count": null,
   "id": "6b69f613",
   "metadata": {},
   "outputs": [],
   "source": []
  },
  {
   "cell_type": "code",
   "execution_count": 107,
   "id": "5de3588b",
   "metadata": {},
   "outputs": [
    {
     "name": "stdout",
     "output_type": "stream",
     "text": [
      "None\n"
     ]
    }
   ],
   "source": [
    "\n",
    "\n",
    "\n",
    "# Drop only those rows where the specified column has a missing value\n",
    "\n",
    "print(df.dropna(subset=['Description','CustomerID'],inplace=True))\n",
    "\n"
   ]
  },
  {
   "cell_type": "code",
   "execution_count": 108,
   "id": "46daa683",
   "metadata": {},
   "outputs": [
    {
     "data": {
      "text/plain": [
       "InvoiceNo      0\n",
       "StockCode      0\n",
       "Description    0\n",
       "Quantity       0\n",
       "InvoiceDate    0\n",
       "UnitPrice      0\n",
       "CustomerID     0\n",
       "Country        0\n",
       "dtype: int64"
      ]
     },
     "execution_count": 108,
     "metadata": {},
     "output_type": "execute_result"
    }
   ],
   "source": [
    "df.isnull().sum()"
   ]
  },
  {
   "cell_type": "code",
   "execution_count": 109,
   "id": "dcd828ad",
   "metadata": {},
   "outputs": [
    {
     "data": {
      "text/plain": [
       "InvoiceNo       object\n",
       "StockCode       object\n",
       "Description     object\n",
       "Quantity         int64\n",
       "InvoiceDate     object\n",
       "UnitPrice      float64\n",
       "CustomerID     float64\n",
       "Country         object\n",
       "dtype: object"
      ]
     },
     "execution_count": 109,
     "metadata": {},
     "output_type": "execute_result"
    }
   ],
   "source": [
    "df.dtypes"
   ]
  },
  {
   "cell_type": "code",
   "execution_count": 110,
   "id": "6164994f",
   "metadata": {},
   "outputs": [],
   "source": [
    "from sklearn.preprocessing import LabelEncoder\n",
    "\n",
    "number = LabelEncoder()\n",
    "df['InvoiceNo'] = number.fit_transform(df['InvoiceNo'].astype('str'))\n",
    "df['StockCode'] = number.fit_transform(df['StockCode'].astype('str'))\n",
    "df['Description'] = number.fit_transform(df['Description'].astype('str'))\n",
    "df['InvoiceDate'] = number.fit_transform(df['InvoiceDate'].astype('str'))\n",
    "df['Country'] = number.fit_transform(df['Country'].astype('str'))"
   ]
  },
  {
   "cell_type": "code",
   "execution_count": 111,
   "id": "b1b4d9db",
   "metadata": {},
   "outputs": [
    {
     "data": {
      "text/plain": [
       "InvoiceNo        int32\n",
       "StockCode        int32\n",
       "Description      int32\n",
       "Quantity         int64\n",
       "InvoiceDate      int32\n",
       "UnitPrice      float64\n",
       "CustomerID     float64\n",
       "Country          int32\n",
       "dtype: object"
      ]
     },
     "execution_count": 111,
     "metadata": {},
     "output_type": "execute_result"
    }
   ],
   "source": [
    "df.dtypes"
   ]
  },
  {
   "cell_type": "code",
   "execution_count": 112,
   "id": "913f834d",
   "metadata": {},
   "outputs": [
    {
     "data": {
      "text/html": [
       "<div>\n",
       "<style scoped>\n",
       "    .dataframe tbody tr th:only-of-type {\n",
       "        vertical-align: middle;\n",
       "    }\n",
       "\n",
       "    .dataframe tbody tr th {\n",
       "        vertical-align: top;\n",
       "    }\n",
       "\n",
       "    .dataframe thead th {\n",
       "        text-align: right;\n",
       "    }\n",
       "</style>\n",
       "<table border=\"1\" class=\"dataframe\">\n",
       "  <thead>\n",
       "    <tr style=\"text-align: right;\">\n",
       "      <th></th>\n",
       "      <th>InvoiceNo</th>\n",
       "      <th>StockCode</th>\n",
       "      <th>Description</th>\n",
       "      <th>Quantity</th>\n",
       "      <th>InvoiceDate</th>\n",
       "      <th>UnitPrice</th>\n",
       "      <th>CustomerID</th>\n",
       "      <th>Country</th>\n",
       "    </tr>\n",
       "  </thead>\n",
       "  <tbody>\n",
       "    <tr>\n",
       "      <th>0</th>\n",
       "      <td>0</td>\n",
       "      <td>3249</td>\n",
       "      <td>3716</td>\n",
       "      <td>6</td>\n",
       "      <td>525</td>\n",
       "      <td>2.55</td>\n",
       "      <td>17850.0</td>\n",
       "      <td>35</td>\n",
       "    </tr>\n",
       "    <tr>\n",
       "      <th>1</th>\n",
       "      <td>0</td>\n",
       "      <td>2649</td>\n",
       "      <td>3724</td>\n",
       "      <td>6</td>\n",
       "      <td>525</td>\n",
       "      <td>3.39</td>\n",
       "      <td>17850.0</td>\n",
       "      <td>35</td>\n",
       "    </tr>\n",
       "    <tr>\n",
       "      <th>2</th>\n",
       "      <td>0</td>\n",
       "      <td>2855</td>\n",
       "      <td>861</td>\n",
       "      <td>8</td>\n",
       "      <td>525</td>\n",
       "      <td>2.75</td>\n",
       "      <td>17850.0</td>\n",
       "      <td>35</td>\n",
       "    </tr>\n",
       "    <tr>\n",
       "      <th>3</th>\n",
       "      <td>0</td>\n",
       "      <td>2803</td>\n",
       "      <td>1813</td>\n",
       "      <td>6</td>\n",
       "      <td>525</td>\n",
       "      <td>3.39</td>\n",
       "      <td>17850.0</td>\n",
       "      <td>35</td>\n",
       "    </tr>\n",
       "    <tr>\n",
       "      <th>4</th>\n",
       "      <td>0</td>\n",
       "      <td>2802</td>\n",
       "      <td>2776</td>\n",
       "      <td>6</td>\n",
       "      <td>525</td>\n",
       "      <td>3.39</td>\n",
       "      <td>17850.0</td>\n",
       "      <td>35</td>\n",
       "    </tr>\n",
       "  </tbody>\n",
       "</table>\n",
       "</div>"
      ],
      "text/plain": [
       "   InvoiceNo  StockCode  Description  Quantity  InvoiceDate  UnitPrice  \\\n",
       "0          0       3249         3716         6          525       2.55   \n",
       "1          0       2649         3724         6          525       3.39   \n",
       "2          0       2855          861         8          525       2.75   \n",
       "3          0       2803         1813         6          525       3.39   \n",
       "4          0       2802         2776         6          525       3.39   \n",
       "\n",
       "   CustomerID  Country  \n",
       "0     17850.0       35  \n",
       "1     17850.0       35  \n",
       "2     17850.0       35  \n",
       "3     17850.0       35  \n",
       "4     17850.0       35  "
      ]
     },
     "execution_count": 112,
     "metadata": {},
     "output_type": "execute_result"
    }
   ],
   "source": [
    "df.head()"
   ]
  },
  {
   "cell_type": "code",
   "execution_count": 113,
   "id": "c2708b66",
   "metadata": {},
   "outputs": [],
   "source": [
    "customer_ids = df['CustomerID']"
   ]
  },
  {
   "cell_type": "code",
   "execution_count": 114,
   "id": "afdcc4f0",
   "metadata": {},
   "outputs": [
    {
     "data": {
      "text/html": [
       "<div>\n",
       "<style scoped>\n",
       "    .dataframe tbody tr th:only-of-type {\n",
       "        vertical-align: middle;\n",
       "    }\n",
       "\n",
       "    .dataframe tbody tr th {\n",
       "        vertical-align: top;\n",
       "    }\n",
       "\n",
       "    .dataframe thead th {\n",
       "        text-align: right;\n",
       "    }\n",
       "</style>\n",
       "<table border=\"1\" class=\"dataframe\">\n",
       "  <thead>\n",
       "    <tr style=\"text-align: right;\">\n",
       "      <th></th>\n",
       "      <th>InvoiceNo</th>\n",
       "      <th>StockCode</th>\n",
       "      <th>Description</th>\n",
       "      <th>Quantity</th>\n",
       "      <th>InvoiceDate</th>\n",
       "      <th>UnitPrice</th>\n",
       "      <th>CustomerID</th>\n",
       "      <th>Country</th>\n",
       "    </tr>\n",
       "  </thead>\n",
       "  <tbody>\n",
       "    <tr>\n",
       "      <th>count</th>\n",
       "      <td>406829.000000</td>\n",
       "      <td>406829.000000</td>\n",
       "      <td>406829.000000</td>\n",
       "      <td>406829.000000</td>\n",
       "      <td>406829.000000</td>\n",
       "      <td>406829.000000</td>\n",
       "      <td>406829.000000</td>\n",
       "      <td>406829.000000</td>\n",
       "    </tr>\n",
       "    <tr>\n",
       "      <th>mean</th>\n",
       "      <td>9950.901755</td>\n",
       "      <td>1573.257501</td>\n",
       "      <td>2024.692726</td>\n",
       "      <td>12.061303</td>\n",
       "      <td>10295.558554</td>\n",
       "      <td>3.460471</td>\n",
       "      <td>15287.690570</td>\n",
       "      <td>32.827731</td>\n",
       "    </tr>\n",
       "    <tr>\n",
       "      <th>std</th>\n",
       "      <td>5552.295845</td>\n",
       "      <td>844.054584</td>\n",
       "      <td>1089.177346</td>\n",
       "      <td>248.693370</td>\n",
       "      <td>5903.158359</td>\n",
       "      <td>69.315162</td>\n",
       "      <td>1713.600303</td>\n",
       "      <td>6.738565</td>\n",
       "    </tr>\n",
       "    <tr>\n",
       "      <th>min</th>\n",
       "      <td>0.000000</td>\n",
       "      <td>0.000000</td>\n",
       "      <td>0.000000</td>\n",
       "      <td>-80995.000000</td>\n",
       "      <td>0.000000</td>\n",
       "      <td>0.000000</td>\n",
       "      <td>12346.000000</td>\n",
       "      <td>0.000000</td>\n",
       "    </tr>\n",
       "    <tr>\n",
       "      <th>25%</th>\n",
       "      <td>5060.000000</td>\n",
       "      <td>937.000000</td>\n",
       "      <td>1143.000000</td>\n",
       "      <td>2.000000</td>\n",
       "      <td>5107.000000</td>\n",
       "      <td>1.250000</td>\n",
       "      <td>13953.000000</td>\n",
       "      <td>35.000000</td>\n",
       "    </tr>\n",
       "    <tr>\n",
       "      <th>50%</th>\n",
       "      <td>10310.000000</td>\n",
       "      <td>1522.000000</td>\n",
       "      <td>1987.000000</td>\n",
       "      <td>5.000000</td>\n",
       "      <td>10284.000000</td>\n",
       "      <td>1.950000</td>\n",
       "      <td>15152.000000</td>\n",
       "      <td>35.000000</td>\n",
       "    </tr>\n",
       "    <tr>\n",
       "      <th>75%</th>\n",
       "      <td>14651.000000</td>\n",
       "      <td>2106.000000</td>\n",
       "      <td>2945.000000</td>\n",
       "      <td>12.000000</td>\n",
       "      <td>15444.000000</td>\n",
       "      <td>3.750000</td>\n",
       "      <td>16791.000000</td>\n",
       "      <td>35.000000</td>\n",
       "    </tr>\n",
       "    <tr>\n",
       "      <th>max</th>\n",
       "      <td>22189.000000</td>\n",
       "      <td>3683.000000</td>\n",
       "      <td>3895.000000</td>\n",
       "      <td>80995.000000</td>\n",
       "      <td>20459.000000</td>\n",
       "      <td>38970.000000</td>\n",
       "      <td>18287.000000</td>\n",
       "      <td>36.000000</td>\n",
       "    </tr>\n",
       "  </tbody>\n",
       "</table>\n",
       "</div>"
      ],
      "text/plain": [
       "           InvoiceNo      StockCode    Description       Quantity  \\\n",
       "count  406829.000000  406829.000000  406829.000000  406829.000000   \n",
       "mean     9950.901755    1573.257501    2024.692726      12.061303   \n",
       "std      5552.295845     844.054584    1089.177346     248.693370   \n",
       "min         0.000000       0.000000       0.000000  -80995.000000   \n",
       "25%      5060.000000     937.000000    1143.000000       2.000000   \n",
       "50%     10310.000000    1522.000000    1987.000000       5.000000   \n",
       "75%     14651.000000    2106.000000    2945.000000      12.000000   \n",
       "max     22189.000000    3683.000000    3895.000000   80995.000000   \n",
       "\n",
       "         InvoiceDate      UnitPrice     CustomerID        Country  \n",
       "count  406829.000000  406829.000000  406829.000000  406829.000000  \n",
       "mean    10295.558554       3.460471   15287.690570      32.827731  \n",
       "std      5903.158359      69.315162    1713.600303       6.738565  \n",
       "min         0.000000       0.000000   12346.000000       0.000000  \n",
       "25%      5107.000000       1.250000   13953.000000      35.000000  \n",
       "50%     10284.000000       1.950000   15152.000000      35.000000  \n",
       "75%     15444.000000       3.750000   16791.000000      35.000000  \n",
       "max     20459.000000   38970.000000   18287.000000      36.000000  "
      ]
     },
     "execution_count": 114,
     "metadata": {},
     "output_type": "execute_result"
    }
   ],
   "source": [
    "df.describe()"
   ]
  },
  {
   "cell_type": "code",
   "execution_count": 115,
   "id": "a9f2a144",
   "metadata": {},
   "outputs": [],
   "source": [
    "df.drop(['InvoiceNo', 'Description','InvoiceDate','CustomerID'], axis=1, inplace=True)"
   ]
  },
  {
   "cell_type": "code",
   "execution_count": 116,
   "id": "d46cfe30",
   "metadata": {},
   "outputs": [],
   "source": [
    "kmeans = KMeans(n_clusters=2)"
   ]
  },
  {
   "cell_type": "code",
   "execution_count": 117,
   "id": "a8cb46b9",
   "metadata": {},
   "outputs": [
    {
     "data": {
      "text/plain": [
       "KMeans(n_clusters=2)"
      ]
     },
     "execution_count": 117,
     "metadata": {},
     "output_type": "execute_result"
    }
   ],
   "source": [
    "kmeans.fit(df)"
   ]
  },
  {
   "cell_type": "code",
   "execution_count": 118,
   "id": "5607381c",
   "metadata": {},
   "outputs": [],
   "source": [
    "pred = kmeans.predict(df)"
   ]
  },
  {
   "cell_type": "code",
   "execution_count": 119,
   "id": "cb99d8b5",
   "metadata": {},
   "outputs": [
    {
     "data": {
      "text/plain": [
       "array([0, 0, 0, ..., 0, 0, 1])"
      ]
     },
     "execution_count": 119,
     "metadata": {},
     "output_type": "execute_result"
    }
   ],
   "source": [
    "pred"
   ]
  },
  {
   "cell_type": "code",
   "execution_count": 120,
   "id": "bb00c3a5",
   "metadata": {},
   "outputs": [
    {
     "data": {
      "text/plain": [
       "1    231673\n",
       "0    175156\n",
       "dtype: int64"
      ]
     },
     "execution_count": 120,
     "metadata": {},
     "output_type": "execute_result"
    }
   ],
   "source": [
    "pd.Series(pred).value_counts()"
   ]
  },
  {
   "cell_type": "code",
   "execution_count": 121,
   "id": "b0cc3e9e",
   "metadata": {},
   "outputs": [
    {
     "data": {
      "text/plain": [
       "124344467767.74275"
      ]
     },
     "execution_count": 121,
     "metadata": {},
     "output_type": "execute_result"
    }
   ],
   "source": [
    "kmeans.inertia_"
   ]
  },
  {
   "cell_type": "code",
   "execution_count": 122,
   "id": "9eeccf5d",
   "metadata": {},
   "outputs": [
    {
     "data": {
      "text/plain": [
       "-124344467767.74275"
      ]
     },
     "execution_count": 122,
     "metadata": {},
     "output_type": "execute_result"
    }
   ],
   "source": [
    "kmeans.score(df)"
   ]
  },
  {
   "cell_type": "code",
   "execution_count": 123,
   "id": "6cea012e",
   "metadata": {},
   "outputs": [],
   "source": [
    "from sklearn.preprocessing import StandardScaler\n",
    "scaler = StandardScaler()\n",
    "data_scaled = scaler.fit_transform(df)"
   ]
  },
  {
   "cell_type": "code",
   "execution_count": 124,
   "id": "3dd0699f",
   "metadata": {},
   "outputs": [
    {
     "data": {
      "text/html": [
       "<div>\n",
       "<style scoped>\n",
       "    .dataframe tbody tr th:only-of-type {\n",
       "        vertical-align: middle;\n",
       "    }\n",
       "\n",
       "    .dataframe tbody tr th {\n",
       "        vertical-align: top;\n",
       "    }\n",
       "\n",
       "    .dataframe thead th {\n",
       "        text-align: right;\n",
       "    }\n",
       "</style>\n",
       "<table border=\"1\" class=\"dataframe\">\n",
       "  <thead>\n",
       "    <tr style=\"text-align: right;\">\n",
       "      <th></th>\n",
       "      <th>0</th>\n",
       "      <th>1</th>\n",
       "      <th>2</th>\n",
       "      <th>3</th>\n",
       "    </tr>\n",
       "  </thead>\n",
       "  <tbody>\n",
       "    <tr>\n",
       "      <th>count</th>\n",
       "      <td>4.068290e+05</td>\n",
       "      <td>4.068290e+05</td>\n",
       "      <td>4.068290e+05</td>\n",
       "      <td>4.068290e+05</td>\n",
       "    </tr>\n",
       "    <tr>\n",
       "      <th>mean</th>\n",
       "      <td>-1.943826e-15</td>\n",
       "      <td>2.075071e-15</td>\n",
       "      <td>-3.085516e-16</td>\n",
       "      <td>-4.533509e-15</td>\n",
       "    </tr>\n",
       "    <tr>\n",
       "      <th>std</th>\n",
       "      <td>1.000001e+00</td>\n",
       "      <td>1.000001e+00</td>\n",
       "      <td>1.000001e+00</td>\n",
       "      <td>1.000001e+00</td>\n",
       "    </tr>\n",
       "    <tr>\n",
       "      <th>min</th>\n",
       "      <td>-1.863931e+00</td>\n",
       "      <td>-3.257311e+02</td>\n",
       "      <td>-4.992379e-02</td>\n",
       "      <td>-4.871627e+00</td>\n",
       "    </tr>\n",
       "    <tr>\n",
       "      <th>25%</th>\n",
       "      <td>-7.538118e-01</td>\n",
       "      <td>-4.045671e-02</td>\n",
       "      <td>-3.189019e-02</td>\n",
       "      <td>3.223641e-01</td>\n",
       "    </tr>\n",
       "    <tr>\n",
       "      <th>50%</th>\n",
       "      <td>-6.072778e-02</td>\n",
       "      <td>-2.839365e-02</td>\n",
       "      <td>-2.179138e-02</td>\n",
       "      <td>3.223641e-01</td>\n",
       "    </tr>\n",
       "    <tr>\n",
       "      <th>75%</th>\n",
       "      <td>6.311714e-01</td>\n",
       "      <td>-2.465022e-04</td>\n",
       "      <td>4.176999e-03</td>\n",
       "      <td>3.223641e-01</td>\n",
       "    </tr>\n",
       "    <tr>\n",
       "      <th>max</th>\n",
       "      <td>2.499536e+00</td>\n",
       "      <td>3.256341e+02</td>\n",
       "      <td>5.621654e+02</td>\n",
       "      <td>4.707639e-01</td>\n",
       "    </tr>\n",
       "  </tbody>\n",
       "</table>\n",
       "</div>"
      ],
      "text/plain": [
       "                  0             1             2             3\n",
       "count  4.068290e+05  4.068290e+05  4.068290e+05  4.068290e+05\n",
       "mean  -1.943826e-15  2.075071e-15 -3.085516e-16 -4.533509e-15\n",
       "std    1.000001e+00  1.000001e+00  1.000001e+00  1.000001e+00\n",
       "min   -1.863931e+00 -3.257311e+02 -4.992379e-02 -4.871627e+00\n",
       "25%   -7.538118e-01 -4.045671e-02 -3.189019e-02  3.223641e-01\n",
       "50%   -6.072778e-02 -2.839365e-02 -2.179138e-02  3.223641e-01\n",
       "75%    6.311714e-01 -2.465022e-04  4.176999e-03  3.223641e-01\n",
       "max    2.499536e+00  3.256341e+02  5.621654e+02  4.707639e-01"
      ]
     },
     "execution_count": 124,
     "metadata": {},
     "output_type": "execute_result"
    }
   ],
   "source": [
    "pd.DataFrame(data_scaled).describe()"
   ]
  },
  {
   "cell_type": "code",
   "execution_count": 125,
   "id": "8fa8dd51",
   "metadata": {},
   "outputs": [],
   "source": [
    "SSE_scaled = []\n",
    "for cluster in range(1,20):\n",
    "    kmeans = KMeans(n_jobs = -1, n_clusters = cluster)\n",
    "    kmeans.fit(data_scaled)\n",
    "    SSE_scaled.append(kmeans.inertia_)\n"
   ]
  },
  {
   "cell_type": "code",
   "execution_count": 126,
   "id": "e28fbace",
   "metadata": {},
   "outputs": [
    {
     "data": {
      "text/plain": [
       "19"
      ]
     },
     "execution_count": 126,
     "metadata": {},
     "output_type": "execute_result"
    }
   ],
   "source": [
    "len(SSE_scaled)"
   ]
  },
  {
   "cell_type": "code",
   "execution_count": 127,
   "id": "fc68acca",
   "metadata": {},
   "outputs": [],
   "source": [
    "frame_scaled = pd.DataFrame({'Cluster':range(1,20),'SSE':SSE_scaled})"
   ]
  },
  {
   "cell_type": "code",
   "execution_count": 128,
   "id": "f715219f",
   "metadata": {},
   "outputs": [
    {
     "data": {
      "text/plain": [
       "Text(0, 0.5, 'SSE')"
      ]
     },
     "execution_count": 128,
     "metadata": {},
     "output_type": "execute_result"
    },
    {
     "data": {
      "image/png": "[encoded data removed]",
      "text/plain": [
       "<Figure size 864x432 with 1 Axes>"
      ]
     },
     "metadata": {
      "needs_background": "light"
     },
     "output_type": "display_data"
    }
   ],
   "source": [
    "plt.figure(figsize=(12,6))\n",
    "plt.plot(frame_scaled['Cluster'],frame_scaled['SSE'],marker='o')\n",
    "plt.xlabel(\"Clusters\")\n",
    "plt.ylabel(\"SSE\")"
   ]
  },
  {
   "cell_type": "code",
   "execution_count": 141,
   "id": "6e95267a",
   "metadata": {},
   "outputs": [],
   "source": [
    "kmeans = KMeans(n_jobs = -1, n_clusters=6 )\n",
    "kmeans.fit(data_scaled)\n",
    "pred = kmeans.predict(data_scaled)"
   ]
  },
  {
   "cell_type": "code",
   "execution_count": 142,
   "id": "fb5bfdb8",
   "metadata": {},
   "outputs": [
    {
     "data": {
      "text/plain": [
       "array([2, 2, 2, ..., 4, 4, 4])"
      ]
     },
     "execution_count": 142,
     "metadata": {},
     "output_type": "execute_result"
    }
   ],
   "source": [
    "pred"
   ]
  },
  {
   "cell_type": "code",
   "execution_count": 143,
   "id": "2bd570ef",
   "metadata": {},
   "outputs": [],
   "source": [
    "frame = pd.DataFrame(data_scaled)"
   ]
  },
  {
   "cell_type": "code",
   "execution_count": 144,
   "id": "32e37cc2",
   "metadata": {},
   "outputs": [],
   "source": [
    "frame['cluster'] = pred"
   ]
  },
  {
   "cell_type": "code",
   "execution_count": 146,
   "id": "15919f39",
   "metadata": {},
   "outputs": [],
   "source": [
    "frame['CustomerID'] = customer_ids"
   ]
  },
  {
   "cell_type": "markdown",
   "id": "35564019",
   "metadata": {},
   "source": [
    "### Each cluster disctribution"
   ]
  },
  {
   "cell_type": "code",
   "execution_count": 147,
   "id": "4d40e4e5",
   "metadata": {},
   "outputs": [
    {
     "data": {
      "text/plain": [
       "0    211002\n",
       "2    160770\n",
       "4     35052\n",
       "5         2\n",
       "1         2\n",
       "3         1\n",
       "Name: cluster, dtype: int64"
      ]
     },
     "execution_count": 147,
     "metadata": {},
     "output_type": "execute_result"
    }
   ],
   "source": [
    "frame['cluster'].value_counts()"
   ]
  },
  {
   "cell_type": "code",
   "execution_count": 149,
   "id": "5bf35741",
   "metadata": {},
   "outputs": [
    {
     "data": {
      "text/plain": [
       "<matplotlib.axes._subplots.AxesSubplot at 0x1d7bff2b6a0>"
      ]
     },
     "execution_count": 149,
     "metadata": {},
     "output_type": "execute_result"
    },
    {
     "data": {
      "image/png": "[encoded data removed]",
      "text/plain": [
       "<Figure size 432x288 with 1 Axes>"
      ]
     },
     "metadata": {
      "needs_background": "light"
     },
     "output_type": "display_data"
    }
   ],
   "source": [
    "frame['cluster'].value_counts().plot(kind='bar')"
   ]
  },
  {
   "cell_type": "code",
   "execution_count": null,
   "id": "db9953c9",
   "metadata": {},
   "outputs": [],
   "source": []
  },
  {
   "cell_type": "code",
   "execution_count": null,
   "id": "1650ccac",
   "metadata": {},
   "outputs": [],
   "source": []
  },
  {
   "cell_type": "code",
   "execution_count": null,
   "id": "846f08a4",
   "metadata": {},
   "outputs": [],
   "source": []
  },
  {
   "cell_type": "code",
   "execution_count": null,
   "id": "340f9a54",
   "metadata": {},
   "outputs": [],
   "source": []
  },
  {
   "cell_type": "code",
   "execution_count": null,
   "id": "766da75a",
   "metadata": {},
   "outputs": [],
   "source": []
  }
 ],
 "metadata": {
  "kernelspec": {
   "display_name": "Python 3",
   "language": "python",
   "name": "python3"
  },
  "language_info": {
   "codemirror_mode": {
    "name": "ipython",
    "version": 3
   },
   "file_extension": ".py",
   "mimetype": "text/x-python",
   "name": "python",
   "nbconvert_exporter": "python",
   "pygments_lexer": "ipython3",
   "version": "3.8.10"
  }
 },
 "nbformat": 4,
 "nbformat_minor": 5
}
