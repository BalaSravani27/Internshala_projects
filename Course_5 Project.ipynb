{
 "cells": [
  {
   "cell_type": "code",
   "execution_count": 18,
   "id": "1626d2d4",
   "metadata": {},
   "outputs": [],
   "source": [
    "#import required packages\n",
    "import pandas as pd\n",
    "import numpy as np\n",
    "from sklearn.metrics import accuracy_score\n",
    "import matplotlib.pyplot as plt\n",
    "%matplotlib inline\n",
    "\n",
    "from sklearn import neighbors\n",
    "from sklearn.metrics import mean_squared_error \n",
    "from math import sqrt\n",
    "\n",
    "\n",
    "\n",
    "import warnings\n",
    "warnings.filterwarnings(\"ignore\")"
   ]
  },
  {
   "cell_type": "code",
   "execution_count": 2,
   "id": "995c6a99",
   "metadata": {},
   "outputs": [],
   "source": [
    "data = pd.read_csv('nyc_taxi_trip_duration Dataset.csv')"
   ]
  },
  {
   "cell_type": "code",
   "execution_count": 3,
   "id": "9aa92480",
   "metadata": {},
   "outputs": [
    {
     "data": {
      "text/html": [
       "<div>\n",
       "<style scoped>\n",
       "    .dataframe tbody tr th:only-of-type {\n",
       "        vertical-align: middle;\n",
       "    }\n",
       "\n",
       "    .dataframe tbody tr th {\n",
       "        vertical-align: top;\n",
       "    }\n",
       "\n",
       "    .dataframe thead th {\n",
       "        text-align: right;\n",
       "    }\n",
       "</style>\n",
       "<table border=\"1\" class=\"dataframe\">\n",
       "  <thead>\n",
       "    <tr style=\"text-align: right;\">\n",
       "      <th></th>\n",
       "      <th>id</th>\n",
       "      <th>vendor_id</th>\n",
       "      <th>pickup_datetime</th>\n",
       "      <th>dropoff_datetime</th>\n",
       "      <th>passenger_count</th>\n",
       "      <th>pickup_longitude</th>\n",
       "      <th>pickup_latitude</th>\n",
       "      <th>dropoff_longitude</th>\n",
       "      <th>dropoff_latitude</th>\n",
       "      <th>store_and_fwd_flag</th>\n",
       "      <th>trip_duration</th>\n",
       "    </tr>\n",
       "  </thead>\n",
       "  <tbody>\n",
       "    <tr>\n",
       "      <th>0</th>\n",
       "      <td>id1080784</td>\n",
       "      <td>2</td>\n",
       "      <td>2016-02-29 16:40:21</td>\n",
       "      <td>2016-02-29 16:47:01</td>\n",
       "      <td>1</td>\n",
       "      <td>-73.953918</td>\n",
       "      <td>40.778873</td>\n",
       "      <td>-73.963875</td>\n",
       "      <td>40.771164</td>\n",
       "      <td>N</td>\n",
       "      <td>400</td>\n",
       "    </tr>\n",
       "    <tr>\n",
       "      <th>1</th>\n",
       "      <td>id0889885</td>\n",
       "      <td>1</td>\n",
       "      <td>2016-03-11 23:35:37</td>\n",
       "      <td>2016-03-11 23:53:57</td>\n",
       "      <td>2</td>\n",
       "      <td>-73.988312</td>\n",
       "      <td>40.731743</td>\n",
       "      <td>-73.994751</td>\n",
       "      <td>40.694931</td>\n",
       "      <td>N</td>\n",
       "      <td>1100</td>\n",
       "    </tr>\n",
       "    <tr>\n",
       "      <th>2</th>\n",
       "      <td>id0857912</td>\n",
       "      <td>2</td>\n",
       "      <td>2016-02-21 17:59:33</td>\n",
       "      <td>2016-02-21 18:26:48</td>\n",
       "      <td>2</td>\n",
       "      <td>-73.997314</td>\n",
       "      <td>40.721458</td>\n",
       "      <td>-73.948029</td>\n",
       "      <td>40.774918</td>\n",
       "      <td>N</td>\n",
       "      <td>1635</td>\n",
       "    </tr>\n",
       "    <tr>\n",
       "      <th>3</th>\n",
       "      <td>id3744273</td>\n",
       "      <td>2</td>\n",
       "      <td>2016-01-05 09:44:31</td>\n",
       "      <td>2016-01-05 10:03:32</td>\n",
       "      <td>6</td>\n",
       "      <td>-73.961670</td>\n",
       "      <td>40.759720</td>\n",
       "      <td>-73.956779</td>\n",
       "      <td>40.780628</td>\n",
       "      <td>N</td>\n",
       "      <td>1141</td>\n",
       "    </tr>\n",
       "    <tr>\n",
       "      <th>4</th>\n",
       "      <td>id0232939</td>\n",
       "      <td>1</td>\n",
       "      <td>2016-02-17 06:42:23</td>\n",
       "      <td>2016-02-17 06:56:31</td>\n",
       "      <td>1</td>\n",
       "      <td>-74.017120</td>\n",
       "      <td>40.708469</td>\n",
       "      <td>-73.988182</td>\n",
       "      <td>40.740631</td>\n",
       "      <td>N</td>\n",
       "      <td>848</td>\n",
       "    </tr>\n",
       "  </tbody>\n",
       "</table>\n",
       "</div>"
      ],
      "text/plain": [
       "          id  vendor_id      pickup_datetime     dropoff_datetime  \\\n",
       "0  id1080784          2  2016-02-29 16:40:21  2016-02-29 16:47:01   \n",
       "1  id0889885          1  2016-03-11 23:35:37  2016-03-11 23:53:57   \n",
       "2  id0857912          2  2016-02-21 17:59:33  2016-02-21 18:26:48   \n",
       "3  id3744273          2  2016-01-05 09:44:31  2016-01-05 10:03:32   \n",
       "4  id0232939          1  2016-02-17 06:42:23  2016-02-17 06:56:31   \n",
       "\n",
       "   passenger_count  pickup_longitude  pickup_latitude  dropoff_longitude  \\\n",
       "0                1        -73.953918        40.778873         -73.963875   \n",
       "1                2        -73.988312        40.731743         -73.994751   \n",
       "2                2        -73.997314        40.721458         -73.948029   \n",
       "3                6        -73.961670        40.759720         -73.956779   \n",
       "4                1        -74.017120        40.708469         -73.988182   \n",
       "\n",
       "   dropoff_latitude store_and_fwd_flag  trip_duration  \n",
       "0         40.771164                  N            400  \n",
       "1         40.694931                  N           1100  \n",
       "2         40.774918                  N           1635  \n",
       "3         40.780628                  N           1141  \n",
       "4         40.740631                  N            848  "
      ]
     },
     "execution_count": 3,
     "metadata": {},
     "output_type": "execute_result"
    }
   ],
   "source": [
    "data.head()"
   ]
  },
  {
   "cell_type": "code",
   "execution_count": 4,
   "id": "94dc42a2",
   "metadata": {},
   "outputs": [
    {
     "data": {
      "text/plain": [
       "id                     object\n",
       "vendor_id               int64\n",
       "pickup_datetime        object\n",
       "dropoff_datetime       object\n",
       "passenger_count         int64\n",
       "pickup_longitude      float64\n",
       "pickup_latitude       float64\n",
       "dropoff_longitude     float64\n",
       "dropoff_latitude      float64\n",
       "store_and_fwd_flag     object\n",
       "trip_duration           int64\n",
       "dtype: object"
      ]
     },
     "execution_count": 4,
     "metadata": {},
     "output_type": "execute_result"
    }
   ],
   "source": [
    "data.dtypes"
   ]
  },
  {
   "cell_type": "code",
   "execution_count": 5,
   "id": "a5884815",
   "metadata": {},
   "outputs": [
    {
     "data": {
      "text/plain": [
       "id                    0\n",
       "vendor_id             0\n",
       "pickup_datetime       0\n",
       "dropoff_datetime      0\n",
       "passenger_count       0\n",
       "pickup_longitude      0\n",
       "pickup_latitude       0\n",
       "dropoff_longitude     0\n",
       "dropoff_latitude      0\n",
       "store_and_fwd_flag    0\n",
       "trip_duration         0\n",
       "dtype: int64"
      ]
     },
     "execution_count": 5,
     "metadata": {},
     "output_type": "execute_result"
    }
   ],
   "source": [
    "data.isnull().sum()"
   ]
  },
  {
   "cell_type": "code",
   "execution_count": 6,
   "id": "7b9f55ff",
   "metadata": {},
   "outputs": [],
   "source": [
    "data = data.drop(['id','pickup_datetime','dropoff_datetime'],axis=1)"
   ]
  },
  {
   "cell_type": "code",
   "execution_count": 8,
   "id": "c00b3f29",
   "metadata": {},
   "outputs": [
    {
     "data": {
      "text/html": [
       "<div>\n",
       "<style scoped>\n",
       "    .dataframe tbody tr th:only-of-type {\n",
       "        vertical-align: middle;\n",
       "    }\n",
       "\n",
       "    .dataframe tbody tr th {\n",
       "        vertical-align: top;\n",
       "    }\n",
       "\n",
       "    .dataframe thead th {\n",
       "        text-align: right;\n",
       "    }\n",
       "</style>\n",
       "<table border=\"1\" class=\"dataframe\">\n",
       "  <thead>\n",
       "    <tr style=\"text-align: right;\">\n",
       "      <th></th>\n",
       "      <th>vendor_id</th>\n",
       "      <th>passenger_count</th>\n",
       "      <th>pickup_longitude</th>\n",
       "      <th>pickup_latitude</th>\n",
       "      <th>dropoff_longitude</th>\n",
       "      <th>dropoff_latitude</th>\n",
       "      <th>trip_duration</th>\n",
       "      <th>store_and_fwd_flag_N</th>\n",
       "      <th>store_and_fwd_flag_Y</th>\n",
       "    </tr>\n",
       "  </thead>\n",
       "  <tbody>\n",
       "    <tr>\n",
       "      <th>0</th>\n",
       "      <td>2</td>\n",
       "      <td>1</td>\n",
       "      <td>-73.953918</td>\n",
       "      <td>40.778873</td>\n",
       "      <td>-73.963875</td>\n",
       "      <td>40.771164</td>\n",
       "      <td>400</td>\n",
       "      <td>1</td>\n",
       "      <td>0</td>\n",
       "    </tr>\n",
       "    <tr>\n",
       "      <th>1</th>\n",
       "      <td>1</td>\n",
       "      <td>2</td>\n",
       "      <td>-73.988312</td>\n",
       "      <td>40.731743</td>\n",
       "      <td>-73.994751</td>\n",
       "      <td>40.694931</td>\n",
       "      <td>1100</td>\n",
       "      <td>1</td>\n",
       "      <td>0</td>\n",
       "    </tr>\n",
       "    <tr>\n",
       "      <th>2</th>\n",
       "      <td>2</td>\n",
       "      <td>2</td>\n",
       "      <td>-73.997314</td>\n",
       "      <td>40.721458</td>\n",
       "      <td>-73.948029</td>\n",
       "      <td>40.774918</td>\n",
       "      <td>1635</td>\n",
       "      <td>1</td>\n",
       "      <td>0</td>\n",
       "    </tr>\n",
       "    <tr>\n",
       "      <th>3</th>\n",
       "      <td>2</td>\n",
       "      <td>6</td>\n",
       "      <td>-73.961670</td>\n",
       "      <td>40.759720</td>\n",
       "      <td>-73.956779</td>\n",
       "      <td>40.780628</td>\n",
       "      <td>1141</td>\n",
       "      <td>1</td>\n",
       "      <td>0</td>\n",
       "    </tr>\n",
       "    <tr>\n",
       "      <th>4</th>\n",
       "      <td>1</td>\n",
       "      <td>1</td>\n",
       "      <td>-74.017120</td>\n",
       "      <td>40.708469</td>\n",
       "      <td>-73.988182</td>\n",
       "      <td>40.740631</td>\n",
       "      <td>848</td>\n",
       "      <td>1</td>\n",
       "      <td>0</td>\n",
       "    </tr>\n",
       "    <tr>\n",
       "      <th>...</th>\n",
       "      <td>...</td>\n",
       "      <td>...</td>\n",
       "      <td>...</td>\n",
       "      <td>...</td>\n",
       "      <td>...</td>\n",
       "      <td>...</td>\n",
       "      <td>...</td>\n",
       "      <td>...</td>\n",
       "      <td>...</td>\n",
       "    </tr>\n",
       "    <tr>\n",
       "      <th>729317</th>\n",
       "      <td>2</td>\n",
       "      <td>2</td>\n",
       "      <td>-73.965919</td>\n",
       "      <td>40.789780</td>\n",
       "      <td>-73.952637</td>\n",
       "      <td>40.789181</td>\n",
       "      <td>296</td>\n",
       "      <td>1</td>\n",
       "      <td>0</td>\n",
       "    </tr>\n",
       "    <tr>\n",
       "      <th>729318</th>\n",
       "      <td>1</td>\n",
       "      <td>1</td>\n",
       "      <td>-73.996666</td>\n",
       "      <td>40.737434</td>\n",
       "      <td>-74.001320</td>\n",
       "      <td>40.731911</td>\n",
       "      <td>315</td>\n",
       "      <td>1</td>\n",
       "      <td>0</td>\n",
       "    </tr>\n",
       "    <tr>\n",
       "      <th>729319</th>\n",
       "      <td>1</td>\n",
       "      <td>1</td>\n",
       "      <td>-73.997849</td>\n",
       "      <td>40.761696</td>\n",
       "      <td>-74.001488</td>\n",
       "      <td>40.741207</td>\n",
       "      <td>673</td>\n",
       "      <td>1</td>\n",
       "      <td>0</td>\n",
       "    </tr>\n",
       "    <tr>\n",
       "      <th>729320</th>\n",
       "      <td>1</td>\n",
       "      <td>1</td>\n",
       "      <td>-74.006706</td>\n",
       "      <td>40.708244</td>\n",
       "      <td>-74.013550</td>\n",
       "      <td>40.713814</td>\n",
       "      <td>447</td>\n",
       "      <td>1</td>\n",
       "      <td>0</td>\n",
       "    </tr>\n",
       "    <tr>\n",
       "      <th>729321</th>\n",
       "      <td>2</td>\n",
       "      <td>4</td>\n",
       "      <td>-74.003342</td>\n",
       "      <td>40.743839</td>\n",
       "      <td>-73.945847</td>\n",
       "      <td>40.712841</td>\n",
       "      <td>1224</td>\n",
       "      <td>1</td>\n",
       "      <td>0</td>\n",
       "    </tr>\n",
       "  </tbody>\n",
       "</table>\n",
       "<p>729322 rows × 9 columns</p>\n",
       "</div>"
      ],
      "text/plain": [
       "        vendor_id  passenger_count  pickup_longitude  pickup_latitude  \\\n",
       "0               2                1        -73.953918        40.778873   \n",
       "1               1                2        -73.988312        40.731743   \n",
       "2               2                2        -73.997314        40.721458   \n",
       "3               2                6        -73.961670        40.759720   \n",
       "4               1                1        -74.017120        40.708469   \n",
       "...           ...              ...               ...              ...   \n",
       "729317          2                2        -73.965919        40.789780   \n",
       "729318          1                1        -73.996666        40.737434   \n",
       "729319          1                1        -73.997849        40.761696   \n",
       "729320          1                1        -74.006706        40.708244   \n",
       "729321          2                4        -74.003342        40.743839   \n",
       "\n",
       "        dropoff_longitude  dropoff_latitude  trip_duration  \\\n",
       "0              -73.963875         40.771164            400   \n",
       "1              -73.994751         40.694931           1100   \n",
       "2              -73.948029         40.774918           1635   \n",
       "3              -73.956779         40.780628           1141   \n",
       "4              -73.988182         40.740631            848   \n",
       "...                   ...               ...            ...   \n",
       "729317         -73.952637         40.789181            296   \n",
       "729318         -74.001320         40.731911            315   \n",
       "729319         -74.001488         40.741207            673   \n",
       "729320         -74.013550         40.713814            447   \n",
       "729321         -73.945847         40.712841           1224   \n",
       "\n",
       "        store_and_fwd_flag_N  store_and_fwd_flag_Y  \n",
       "0                          1                     0  \n",
       "1                          1                     0  \n",
       "2                          1                     0  \n",
       "3                          1                     0  \n",
       "4                          1                     0  \n",
       "...                      ...                   ...  \n",
       "729317                     1                     0  \n",
       "729318                     1                     0  \n",
       "729319                     1                     0  \n",
       "729320                     1                     0  \n",
       "729321                     1                     0  \n",
       "\n",
       "[729322 rows x 9 columns]"
      ]
     },
     "execution_count": 8,
     "metadata": {},
     "output_type": "execute_result"
    }
   ],
   "source": [
    "pd.get_dummies(data, columns=[\"store_and_fwd_flag\"])"
   ]
  },
  {
   "cell_type": "code",
   "execution_count": 10,
   "id": "a3fff694",
   "metadata": {},
   "outputs": [],
   "source": [
    "store_fwd = [1 if ele=='Y' else 0 for ele in data['store_and_fwd_flag']]"
   ]
  },
  {
   "cell_type": "code",
   "execution_count": 11,
   "id": "fdb259e9",
   "metadata": {},
   "outputs": [],
   "source": [
    "data['store_and_fwd_flag'] = store_fwd"
   ]
  },
  {
   "cell_type": "code",
   "execution_count": 12,
   "id": "5b529a37",
   "metadata": {},
   "outputs": [
    {
     "data": {
      "text/html": [
       "<div>\n",
       "<style scoped>\n",
       "    .dataframe tbody tr th:only-of-type {\n",
       "        vertical-align: middle;\n",
       "    }\n",
       "\n",
       "    .dataframe tbody tr th {\n",
       "        vertical-align: top;\n",
       "    }\n",
       "\n",
       "    .dataframe thead th {\n",
       "        text-align: right;\n",
       "    }\n",
       "</style>\n",
       "<table border=\"1\" class=\"dataframe\">\n",
       "  <thead>\n",
       "    <tr style=\"text-align: right;\">\n",
       "      <th></th>\n",
       "      <th>vendor_id</th>\n",
       "      <th>passenger_count</th>\n",
       "      <th>pickup_longitude</th>\n",
       "      <th>pickup_latitude</th>\n",
       "      <th>dropoff_longitude</th>\n",
       "      <th>dropoff_latitude</th>\n",
       "      <th>store_and_fwd_flag</th>\n",
       "      <th>trip_duration</th>\n",
       "    </tr>\n",
       "  </thead>\n",
       "  <tbody>\n",
       "    <tr>\n",
       "      <th>0</th>\n",
       "      <td>2</td>\n",
       "      <td>1</td>\n",
       "      <td>-73.953918</td>\n",
       "      <td>40.778873</td>\n",
       "      <td>-73.963875</td>\n",
       "      <td>40.771164</td>\n",
       "      <td>0</td>\n",
       "      <td>400</td>\n",
       "    </tr>\n",
       "    <tr>\n",
       "      <th>1</th>\n",
       "      <td>1</td>\n",
       "      <td>2</td>\n",
       "      <td>-73.988312</td>\n",
       "      <td>40.731743</td>\n",
       "      <td>-73.994751</td>\n",
       "      <td>40.694931</td>\n",
       "      <td>0</td>\n",
       "      <td>1100</td>\n",
       "    </tr>\n",
       "    <tr>\n",
       "      <th>2</th>\n",
       "      <td>2</td>\n",
       "      <td>2</td>\n",
       "      <td>-73.997314</td>\n",
       "      <td>40.721458</td>\n",
       "      <td>-73.948029</td>\n",
       "      <td>40.774918</td>\n",
       "      <td>0</td>\n",
       "      <td>1635</td>\n",
       "    </tr>\n",
       "    <tr>\n",
       "      <th>3</th>\n",
       "      <td>2</td>\n",
       "      <td>6</td>\n",
       "      <td>-73.961670</td>\n",
       "      <td>40.759720</td>\n",
       "      <td>-73.956779</td>\n",
       "      <td>40.780628</td>\n",
       "      <td>0</td>\n",
       "      <td>1141</td>\n",
       "    </tr>\n",
       "    <tr>\n",
       "      <th>4</th>\n",
       "      <td>1</td>\n",
       "      <td>1</td>\n",
       "      <td>-74.017120</td>\n",
       "      <td>40.708469</td>\n",
       "      <td>-73.988182</td>\n",
       "      <td>40.740631</td>\n",
       "      <td>0</td>\n",
       "      <td>848</td>\n",
       "    </tr>\n",
       "  </tbody>\n",
       "</table>\n",
       "</div>"
      ],
      "text/plain": [
       "   vendor_id  passenger_count  pickup_longitude  pickup_latitude  \\\n",
       "0          2                1        -73.953918        40.778873   \n",
       "1          1                2        -73.988312        40.731743   \n",
       "2          2                2        -73.997314        40.721458   \n",
       "3          2                6        -73.961670        40.759720   \n",
       "4          1                1        -74.017120        40.708469   \n",
       "\n",
       "   dropoff_longitude  dropoff_latitude  store_and_fwd_flag  trip_duration  \n",
       "0         -73.963875         40.771164                   0            400  \n",
       "1         -73.994751         40.694931                   0           1100  \n",
       "2         -73.948029         40.774918                   0           1635  \n",
       "3         -73.956779         40.780628                   0           1141  \n",
       "4         -73.988182         40.740631                   0            848  "
      ]
     },
     "execution_count": 12,
     "metadata": {},
     "output_type": "execute_result"
    }
   ],
   "source": [
    "data.head()"
   ]
  },
  {
   "cell_type": "code",
   "execution_count": 13,
   "id": "db3d10a2",
   "metadata": {},
   "outputs": [
    {
     "data": {
      "text/plain": [
       "vendor_id               int64\n",
       "passenger_count         int64\n",
       "pickup_longitude      float64\n",
       "pickup_latitude       float64\n",
       "dropoff_longitude     float64\n",
       "dropoff_latitude      float64\n",
       "store_and_fwd_flag      int64\n",
       "trip_duration           int64\n",
       "dtype: object"
      ]
     },
     "execution_count": 13,
     "metadata": {},
     "output_type": "execute_result"
    }
   ],
   "source": [
    "data.dtypes"
   ]
  },
  {
   "cell_type": "markdown",
   "id": "c2d73049",
   "metadata": {},
   "source": [
    "### Data Preparation"
   ]
  },
  {
   "cell_type": "code",
   "execution_count": 15,
   "id": "5729ffc0",
   "metadata": {},
   "outputs": [],
   "source": [
    "# creating the independent and dependent variables\n",
    "X = data.drop(['trip_duration'], axis=1)\n",
    "y = data['trip_duration']"
   ]
  },
  {
   "cell_type": "code",
   "execution_count": 133,
   "id": "50c1e9e5",
   "metadata": {},
   "outputs": [],
   "source": [
    "# Splitting the data\n",
    "from sklearn.model_selection import train_test_split\n",
    "from sklearn.linear_model import LinearRegression\n",
    "\n",
    "\n",
    "X_train,X_test,y_train,y_test = train_test_split(X,y,test_size=0.2,random_state=2)\n"
   ]
  },
  {
   "cell_type": "code",
   "execution_count": 24,
   "id": "dfafc67d",
   "metadata": {},
   "outputs": [],
   "source": [
    "lr = LinearRegression()\n",
    "lr.fit(X_train,y_train)\n",
    "lr_pred = lr.predict(X_test)"
   ]
  },
  {
   "cell_type": "code",
   "execution_count": 25,
   "id": "7b3cbe71",
   "metadata": {},
   "outputs": [
    {
     "data": {
      "text/html": [
       "<div>\n",
       "<style scoped>\n",
       "    .dataframe tbody tr th:only-of-type {\n",
       "        vertical-align: middle;\n",
       "    }\n",
       "\n",
       "    .dataframe tbody tr th {\n",
       "        vertical-align: top;\n",
       "    }\n",
       "\n",
       "    .dataframe thead th {\n",
       "        text-align: right;\n",
       "    }\n",
       "</style>\n",
       "<table border=\"1\" class=\"dataframe\">\n",
       "  <thead>\n",
       "    <tr style=\"text-align: right;\">\n",
       "      <th></th>\n",
       "      <th>vendor_id</th>\n",
       "      <th>passenger_count</th>\n",
       "      <th>pickup_longitude</th>\n",
       "      <th>pickup_latitude</th>\n",
       "      <th>dropoff_longitude</th>\n",
       "      <th>dropoff_latitude</th>\n",
       "      <th>store_and_fwd_flag</th>\n",
       "    </tr>\n",
       "  </thead>\n",
       "  <tbody>\n",
       "    <tr>\n",
       "      <th>163528</th>\n",
       "      <td>1</td>\n",
       "      <td>1</td>\n",
       "      <td>-73.956657</td>\n",
       "      <td>40.766899</td>\n",
       "      <td>-73.974190</td>\n",
       "      <td>40.783077</td>\n",
       "      <td>0</td>\n",
       "    </tr>\n",
       "    <tr>\n",
       "      <th>476206</th>\n",
       "      <td>1</td>\n",
       "      <td>1</td>\n",
       "      <td>-73.993668</td>\n",
       "      <td>40.741863</td>\n",
       "      <td>-74.008255</td>\n",
       "      <td>40.748798</td>\n",
       "      <td>0</td>\n",
       "    </tr>\n",
       "    <tr>\n",
       "      <th>128038</th>\n",
       "      <td>1</td>\n",
       "      <td>1</td>\n",
       "      <td>-73.977524</td>\n",
       "      <td>40.764492</td>\n",
       "      <td>-73.987450</td>\n",
       "      <td>40.762882</td>\n",
       "      <td>0</td>\n",
       "    </tr>\n",
       "    <tr>\n",
       "      <th>417542</th>\n",
       "      <td>1</td>\n",
       "      <td>1</td>\n",
       "      <td>-73.988510</td>\n",
       "      <td>40.759403</td>\n",
       "      <td>-73.978951</td>\n",
       "      <td>40.756332</td>\n",
       "      <td>0</td>\n",
       "    </tr>\n",
       "    <tr>\n",
       "      <th>94289</th>\n",
       "      <td>2</td>\n",
       "      <td>1</td>\n",
       "      <td>-73.998505</td>\n",
       "      <td>40.750465</td>\n",
       "      <td>-74.004745</td>\n",
       "      <td>40.741901</td>\n",
       "      <td>0</td>\n",
       "    </tr>\n",
       "    <tr>\n",
       "      <th>...</th>\n",
       "      <td>...</td>\n",
       "      <td>...</td>\n",
       "      <td>...</td>\n",
       "      <td>...</td>\n",
       "      <td>...</td>\n",
       "      <td>...</td>\n",
       "      <td>...</td>\n",
       "    </tr>\n",
       "    <tr>\n",
       "      <th>269141</th>\n",
       "      <td>2</td>\n",
       "      <td>2</td>\n",
       "      <td>-73.976685</td>\n",
       "      <td>40.787899</td>\n",
       "      <td>-73.972145</td>\n",
       "      <td>40.793831</td>\n",
       "      <td>0</td>\n",
       "    </tr>\n",
       "    <tr>\n",
       "      <th>148772</th>\n",
       "      <td>1</td>\n",
       "      <td>1</td>\n",
       "      <td>-73.968597</td>\n",
       "      <td>40.761684</td>\n",
       "      <td>-73.996475</td>\n",
       "      <td>40.747829</td>\n",
       "      <td>0</td>\n",
       "    </tr>\n",
       "    <tr>\n",
       "      <th>137688</th>\n",
       "      <td>2</td>\n",
       "      <td>1</td>\n",
       "      <td>-73.973221</td>\n",
       "      <td>40.748390</td>\n",
       "      <td>-73.870827</td>\n",
       "      <td>40.773949</td>\n",
       "      <td>0</td>\n",
       "    </tr>\n",
       "    <tr>\n",
       "      <th>147446</th>\n",
       "      <td>2</td>\n",
       "      <td>1</td>\n",
       "      <td>-73.862907</td>\n",
       "      <td>40.769444</td>\n",
       "      <td>-73.952095</td>\n",
       "      <td>40.813904</td>\n",
       "      <td>0</td>\n",
       "    </tr>\n",
       "    <tr>\n",
       "      <th>467877</th>\n",
       "      <td>2</td>\n",
       "      <td>1</td>\n",
       "      <td>-73.967224</td>\n",
       "      <td>40.770042</td>\n",
       "      <td>-73.992294</td>\n",
       "      <td>40.768982</td>\n",
       "      <td>0</td>\n",
       "    </tr>\n",
       "  </tbody>\n",
       "</table>\n",
       "<p>145865 rows × 7 columns</p>\n",
       "</div>"
      ],
      "text/plain": [
       "        vendor_id  passenger_count  pickup_longitude  pickup_latitude  \\\n",
       "163528          1                1        -73.956657        40.766899   \n",
       "476206          1                1        -73.993668        40.741863   \n",
       "128038          1                1        -73.977524        40.764492   \n",
       "417542          1                1        -73.988510        40.759403   \n",
       "94289           2                1        -73.998505        40.750465   \n",
       "...           ...              ...               ...              ...   \n",
       "269141          2                2        -73.976685        40.787899   \n",
       "148772          1                1        -73.968597        40.761684   \n",
       "137688          2                1        -73.973221        40.748390   \n",
       "147446          2                1        -73.862907        40.769444   \n",
       "467877          2                1        -73.967224        40.770042   \n",
       "\n",
       "        dropoff_longitude  dropoff_latitude  store_and_fwd_flag  \n",
       "163528         -73.974190         40.783077                   0  \n",
       "476206         -74.008255         40.748798                   0  \n",
       "128038         -73.987450         40.762882                   0  \n",
       "417542         -73.978951         40.756332                   0  \n",
       "94289          -74.004745         40.741901                   0  \n",
       "...                   ...               ...                 ...  \n",
       "269141         -73.972145         40.793831                   0  \n",
       "148772         -73.996475         40.747829                   0  \n",
       "137688         -73.870827         40.773949                   0  \n",
       "147446         -73.952095         40.813904                   0  \n",
       "467877         -73.992294         40.768982                   0  \n",
       "\n",
       "[145865 rows x 7 columns]"
      ]
     },
     "execution_count": 25,
     "metadata": {},
     "output_type": "execute_result"
    }
   ],
   "source": [
    "X_test"
   ]
  },
  {
   "cell_type": "code",
   "execution_count": 63,
   "id": "1292a848",
   "metadata": {},
   "outputs": [],
   "source": [
    "from sklearn.metrics import mean_squared_error\n",
    "import math"
   ]
  },
  {
   "cell_type": "code",
   "execution_count": 64,
   "id": "3d0c5f2c",
   "metadata": {},
   "outputs": [
    {
     "name": "stdout",
     "output_type": "stream",
     "text": [
      "RMSE 3974.6345335997357\n"
     ]
    }
   ],
   "source": [
    "print(\"RMSE\",np.sqrt(mean_squared_error(y_test,y_pred)))"
   ]
  },
  {
   "cell_type": "markdown",
   "id": "db55bd86",
   "metadata": {},
   "source": [
    "### KNN"
   ]
  },
  {
   "cell_type": "code",
   "execution_count": 81,
   "id": "6650d941",
   "metadata": {},
   "outputs": [],
   "source": [
    "from sklearn.neighbors import KNeighborsClassifier as KNN\n"
   ]
  },
  {
   "cell_type": "code",
   "execution_count": 82,
   "id": "fd4102d6",
   "metadata": {},
   "outputs": [
    {
     "name": "stdout",
     "output_type": "stream",
     "text": [
      "RMSE value for k=  3 is: 3466.2675291983824\n",
      "RMSE value for k=  5 is: 3643.871753390968\n",
      "RMSE value for k=  7 is: 3746.5530589815226\n",
      "RMSE value for k=  9 is: 3782.759310567676\n"
     ]
    }
   ],
   "source": [
    "rmse_val = [] #to store rmse values for different k\n",
    "for K in [3,5,7,9]:\n",
    "    #K = K+1\n",
    "    model = neighbors.KNeighborsRegressor(n_neighbors = K)\n",
    "\n",
    "    model.fit(X_train, y_train)  #fit the model\n",
    "    pred=model.predict(X_train) #make prediction on test set\n",
    "    error = sqrt(mean_squared_error(y_train,pred)) #calculate rmse\n",
    "    rmse_val.append(error) #store rmse values\n",
    "    print('RMSE value for k= ' , K , 'is:', error)"
   ]
  },
  {
   "cell_type": "code",
   "execution_count": 83,
   "id": "d98a3ee9",
   "metadata": {},
   "outputs": [
    {
     "data": {
      "text/plain": [
       "<matplotlib.axes._subplots.AxesSubplot at 0x28d01fe4550>"
      ]
     },
     "execution_count": 83,
     "metadata": {},
     "output_type": "execute_result"
    },
    {
     "data": {
      "image/png": "[encoded data removed]",
      "text/plain": [
       "<Figure size 432x288 with 1 Axes>"
      ]
     },
     "metadata": {
      "needs_background": "light"
     },
     "output_type": "display_data"
    }
   ],
   "source": [
    "#plotting the rmse values against k values\n",
    "curve = pd.DataFrame(rmse_val) #elbow curve \n",
    "curve.plot()"
   ]
  },
  {
   "cell_type": "markdown",
   "id": "b3e0798f",
   "metadata": {},
   "source": [
    "### From the above plot we can observe that the elbow is at K=5 and the RMSE value is 3643.871 so this is the best value of K for the given Dataset."
   ]
  },
  {
   "cell_type": "code",
   "execution_count": 135,
   "id": "a20eb2fa",
   "metadata": {},
   "outputs": [],
   "source": [
    "knn_model =  neighbors.KNeighborsRegressor(n_neighbors = 5)\n",
    "knn_model.fit(X_train,y_train)\n",
    "knn_pred = knn_model.predict(X_test)"
   ]
  },
  {
   "cell_type": "markdown",
   "id": "5cf59ceb",
   "metadata": {},
   "source": [
    "## Building a Linear Model with Regularization"
   ]
  },
  {
   "cell_type": "code",
   "execution_count": 136,
   "id": "79f568af",
   "metadata": {},
   "outputs": [],
   "source": [
    "## Here i had chosen ElasticNet Regularization technique as it solves the limitations of both Lasso & Ridge Regression.\n",
    "from sklearn.linear_model import ElasticNet \n",
    "from sklearn.datasets import make_regression"
   ]
  },
  {
   "cell_type": "code",
   "execution_count": 137,
   "id": "0f1698ac",
   "metadata": {},
   "outputs": [],
   "source": [
    "lr_reg = ElasticNet()\n",
    "\n",
    "lr_reg.fit(X, y)\n",
    "\n",
    "lr_reg_pred = lr_reg.predict(X_test)"
   ]
  },
  {
   "cell_type": "code",
   "execution_count": 86,
   "id": "b42600d4",
   "metadata": {},
   "outputs": [
    {
     "data": {
      "text/plain": [
       "array([64.75245867, 24.02874026, 17.82674082, -8.88705409,  9.88303731,\n",
       "       -6.87099718,  1.04654671])"
      ]
     },
     "execution_count": 86,
     "metadata": {},
     "output_type": "execute_result"
    }
   ],
   "source": [
    "# here are the coefficients\n",
    "lr.coef_"
   ]
  },
  {
   "cell_type": "code",
   "execution_count": 87,
   "id": "d726148c",
   "metadata": {},
   "outputs": [
    {
     "data": {
      "text/plain": [
       "3504.8148457242096"
      ]
     },
     "execution_count": 87,
     "metadata": {},
     "output_type": "execute_result"
    }
   ],
   "source": [
    "# the intercept\n",
    "lr.intercept_"
   ]
  },
  {
   "cell_type": "markdown",
   "id": "13481844",
   "metadata": {},
   "source": [
    "## Building Random Forest Model"
   ]
  },
  {
   "cell_type": "code",
   "execution_count": 138,
   "id": "152e0c73",
   "metadata": {},
   "outputs": [
    {
     "data": {
      "text/plain": [
       "RandomForestRegressor()"
      ]
     },
     "execution_count": 138,
     "metadata": {},
     "output_type": "execute_result"
    }
   ],
   "source": [
    "from sklearn.ensemble import RandomForestRegressor\n",
    "rf = RandomForestRegressor()\n",
    "rf.fit(X_train,y_train)"
   ]
  },
  {
   "cell_type": "code",
   "execution_count": 139,
   "id": "83a09c41",
   "metadata": {},
   "outputs": [],
   "source": [
    "rf_pred = regressor.predict(X_test)\n"
   ]
  },
  {
   "cell_type": "markdown",
   "id": "1aafc63f",
   "metadata": {},
   "source": [
    "## Gradient Boosting Model"
   ]
  },
  {
   "cell_type": "code",
   "execution_count": 140,
   "id": "e75eecea",
   "metadata": {},
   "outputs": [],
   "source": [
    "from sklearn.ensemble import GradientBoostingRegressor"
   ]
  },
  {
   "cell_type": "code",
   "execution_count": 141,
   "id": "c9c2552c",
   "metadata": {},
   "outputs": [
    {
     "data": {
      "text/plain": [
       "GradientBoostingRegressor()"
      ]
     },
     "execution_count": 141,
     "metadata": {},
     "output_type": "execute_result"
    }
   ],
   "source": [
    "gb = GradientBoostingRegressor()\n",
    "gb.fit(X_train,y_train)\n",
    "\n"
   ]
  },
  {
   "cell_type": "code",
   "execution_count": 142,
   "id": "f48a6b35",
   "metadata": {},
   "outputs": [
    {
     "data": {
      "text/plain": [
       "array([ 593.3892929 ,  580.52615618,  629.46804833, ..., 1811.61611148,\n",
       "       1757.83509138,  986.4006482 ])"
      ]
     },
     "execution_count": 142,
     "metadata": {},
     "output_type": "execute_result"
    }
   ],
   "source": [
    "gb_pred = gb.predict(X_test)\n",
    "gb_pred"
   ]
  },
  {
   "cell_type": "markdown",
   "id": "b3e1e97f",
   "metadata": {},
   "source": [
    "### Ensemble by averaging models"
   ]
  },
  {
   "cell_type": "code",
   "execution_count": 144,
   "id": "934d19d7",
   "metadata": {},
   "outputs": [],
   "source": [
    "average_all_models = np.mean([rf_pred,gb_pred,lr_reg_pred,knn_pred], axis=0)"
   ]
  },
  {
   "cell_type": "code",
   "execution_count": 145,
   "id": "34af9ab7",
   "metadata": {},
   "outputs": [
    {
     "data": {
      "text/plain": [
       "array([ 644.9428626 ,  618.14247487,  614.80183242, ..., 1147.52605219,\n",
       "       1382.6062265 ,  979.6842201 ])"
      ]
     },
     "execution_count": 145,
     "metadata": {},
     "output_type": "execute_result"
    }
   ],
   "source": [
    "average_all_models"
   ]
  },
  {
   "cell_type": "code",
   "execution_count": 147,
   "id": "920d3592",
   "metadata": {},
   "outputs": [
    {
     "data": {
      "text/plain": [
       "145865"
      ]
     },
     "execution_count": 147,
     "metadata": {},
     "output_type": "execute_result"
    }
   ],
   "source": [
    "len(average_all_models)"
   ]
  },
  {
   "cell_type": "code",
   "execution_count": 148,
   "id": "fb25c981",
   "metadata": {},
   "outputs": [
    {
     "data": {
      "text/plain": [
       "145865"
      ]
     },
     "execution_count": 148,
     "metadata": {},
     "output_type": "execute_result"
    }
   ],
   "source": [
    "len(y_test)"
   ]
  },
  {
   "cell_type": "code",
   "execution_count": 149,
   "id": "e4f17961",
   "metadata": {},
   "outputs": [],
   "source": [
    "from sklearn.metrics import mean_squared_error,mean_absolute_percentage_error"
   ]
  },
  {
   "cell_type": "code",
   "execution_count": 152,
   "id": "ebab8e6b",
   "metadata": {},
   "outputs": [
    {
     "data": {
      "text/plain": [
       "3146.464656619418"
      ]
     },
     "execution_count": 152,
     "metadata": {},
     "output_type": "execute_result"
    }
   ],
   "source": [
    "math.sqrt(mean_squared_error(y_test,average_all_models))"
   ]
  },
  {
   "cell_type": "code",
   "execution_count": 151,
   "id": "ee22330e",
   "metadata": {},
   "outputs": [
    {
     "data": {
      "text/plain": [
       "0.9654946675218938"
      ]
     },
     "execution_count": 151,
     "metadata": {},
     "output_type": "execute_result"
    }
   ],
   "source": [
    "mean_absolute_percentage_error(y_test,average_all_models)"
   ]
  },
  {
   "cell_type": "markdown",
   "id": "badebe9e",
   "metadata": {},
   "source": [
    "### The result for the ensemble model by averaging 4 models is RMSE: 3146 and MAPE: 96%"
   ]
  },
  {
   "cell_type": "code",
   "execution_count": null,
   "id": "4076d849",
   "metadata": {},
   "outputs": [],
   "source": []
  }
 ],
 "metadata": {
  "kernelspec": {
   "display_name": "Python 3",
   "language": "python",
   "name": "python3"
  },
  "language_info": {
   "codemirror_mode": {
    "name": "ipython",
    "version": 3
   },
   "file_extension": ".py",
   "mimetype": "text/x-python",
   "name": "python",
   "nbconvert_exporter": "python",
   "pygments_lexer": "ipython3",
   "version": "3.8.10"
  }
 },
 "nbformat": 4,
 "nbformat_minor": 5
}
